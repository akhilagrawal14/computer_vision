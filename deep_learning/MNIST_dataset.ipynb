{
  "nbformat": 4,
  "nbformat_minor": 0,
  "metadata": {
    "colab": {
      "provenance": []
    },
    "kernelspec": {
      "name": "python3",
      "display_name": "Python 3"
    },
    "language_info": {
      "name": "python"
    },
    "accelerator": "GPU",
    "gpuClass": "standard"
  },
  "cells": [
    {
      "cell_type": "code",
      "execution_count": 1,
      "metadata": {
        "colab": {
          "base_uri": "https://localhost:8080/"
        },
        "id": "ZSECqTFLmc7Q",
        "outputId": "3f5cdc1a-0035-4ce6-93b8-54cd54f92f27"
      },
      "outputs": [
        {
          "output_type": "stream",
          "name": "stdout",
          "text": [
            "Drive already mounted at /content/drive; to attempt to forcibly remount, call drive.mount(\"/content/drive\", force_remount=True).\n"
          ]
        }
      ],
      "source": [
        "from google.colab import drive\n",
        "drive.mount('/content/drive')\n",
        "\n"
      ]
    },
    {
      "cell_type": "code",
      "source": [
        "!pwd"
      ],
      "metadata": {
        "colab": {
          "base_uri": "https://localhost:8080/"
        },
        "id": "0lc5pTRknaHh",
        "outputId": "8429a37b-e9bd-476d-f2c5-426a8b45251c"
      },
      "execution_count": 2,
      "outputs": [
        {
          "output_type": "stream",
          "name": "stdout",
          "text": [
            "/content\n"
          ]
        }
      ]
    },
    {
      "cell_type": "code",
      "source": [
        "import torch\n",
        "import torchvision\n",
        "import numpy as np\n",
        "import pandas as pd"
      ],
      "metadata": {
        "id": "4OmcVoe3nubi"
      },
      "execution_count": 3,
      "outputs": []
    },
    {
      "cell_type": "code",
      "source": [
        "n_epochs = 5\n",
        "batch_size_train = 64\n",
        "batch_size_test = 1000\n",
        "learning_rate = 0.01\n",
        "momentum = 0.5\n",
        "log_interval = 10\n",
        "random_seed = 1\n",
        "torch.backends.cudnn.enabled = True\n",
        "torch.manual_seed(random_seed)"
      ],
      "metadata": {
        "colab": {
          "base_uri": "https://localhost:8080/"
        },
        "id": "sFUyrei8oHhI",
        "outputId": "9d1d13ee-c71a-447c-d360-352ab2481313"
      },
      "execution_count": 24,
      "outputs": [
        {
          "output_type": "execute_result",
          "data": {
            "text/plain": [
              "<torch._C.Generator at 0x7f88bab8ae50>"
            ]
          },
          "metadata": {},
          "execution_count": 24
        }
      ]
    },
    {
      "cell_type": "code",
      "source": [
        "train_loader = torch.utils.data.DataLoader(\n",
        "  torchvision.datasets.MNIST('/files/', train=True, download=True,\n",
        "                             transform=torchvision.transforms.Compose([\n",
        "                               torchvision.transforms.ToTensor(),\n",
        "                               torchvision.transforms.Normalize(\n",
        "                                 (0.1307,), (0.3081,))\n",
        "                             ])),\n",
        "  batch_size=batch_size_train, shuffle=True)\n",
        "test_loader = torch.utils.data.DataLoader(\n",
        "  torchvision.datasets.MNIST('/files/', train=False, download=True,\n",
        "                             transform=torchvision.transforms.Compose([\n",
        "                               torchvision.transforms.ToTensor(),\n",
        "                               torchvision.transforms.Normalize(\n",
        "                                 (0.1307,), (0.3081,))\n",
        "                             ])),\n",
        "  batch_size=batch_size_test, shuffle=True)"
      ],
      "metadata": {
        "id": "0xKBVLCcn3Fb"
      },
      "execution_count": 25,
      "outputs": []
    },
    {
      "cell_type": "code",
      "source": [
        "examples = enumerate(test_loader)\n",
        "batch_idx, (example_data, example_targets) = next(examples)"
      ],
      "metadata": {
        "id": "34C5AV5-oZHH"
      },
      "execution_count": 26,
      "outputs": []
    },
    {
      "cell_type": "code",
      "source": [
        "example_data.shape"
      ],
      "metadata": {
        "colab": {
          "base_uri": "https://localhost:8080/"
        },
        "id": "S9J4M4kNpKKa",
        "outputId": "bac39b94-f402-4330-dae6-2659d3a63859"
      },
      "execution_count": 27,
      "outputs": [
        {
          "output_type": "execute_result",
          "data": {
            "text/plain": [
              "torch.Size([1000, 1, 28, 28])"
            ]
          },
          "metadata": {},
          "execution_count": 27
        }
      ]
    },
    {
      "cell_type": "code",
      "source": [
        "import matplotlib.pyplot as plt\n",
        "fig = plt.figure()\n",
        "for i in range(6):\n",
        "  plt.subplot(2,3,i+1)\n",
        "  plt.tight_layout()\n",
        "  plt.imshow(example_data[i][0], cmap='gray', interpolation='none')\n",
        "  plt.title(\"Ground Truth: {}\".format(example_targets[i]))\n",
        "  plt.xticks([])\n",
        "  plt.yticks([])\n",
        "fig"
      ],
      "metadata": {
        "colab": {
          "base_uri": "https://localhost:8080/",
          "height": 551
        },
        "id": "Hk7mF6O8pNs7",
        "outputId": "4f8116ab-4158-44d5-e44f-ffc92098d33c"
      },
      "execution_count": 28,
      "outputs": [
        {
          "output_type": "execute_result",
          "data": {
            "text/plain": [
              "<Figure size 432x288 with 6 Axes>"
            ],
            "image/png": "[encoded data removed]"
          },
          "metadata": {},
          "execution_count": 28
        },
        {
          "output_type": "display_data",
          "data": {
            "text/plain": [
              "<Figure size 432x288 with 6 Axes>"
            ],
            "image/png": "[encoded data removed]"
          },
          "metadata": {}
        }
      ]
    },
    {
      "cell_type": "code",
      "source": [
        "import torch.nn as nn\n",
        "import torch.nn.functional as F\n",
        "import torch.optim as optim"
      ],
      "metadata": {
        "id": "12griSiKpX9M"
      },
      "execution_count": 29,
      "outputs": []
    },
    {
      "cell_type": "code",
      "source": [
        "if torch.cuda.is_available():\n",
        "  device = torch.device(\"cuda\")\n",
        "else:\n",
        "  device = torch.device(\"cpu\")"
      ],
      "metadata": {
        "id": "Qnfy_eZX2OUo"
      },
      "execution_count": 32,
      "outputs": []
    },
    {
      "cell_type": "code",
      "source": [
        "class Net(nn.Module):  #input grayscale image\n",
        "    #output size formula [(W−K+2P)/S]+1\n",
        "    def __init__(self):\n",
        "        super(Net, self).__init__()\n",
        "        self.conv1 = nn.Conv2d(1, 10, kernel_size=5) # conv2d in_channels, out_channels, kernel_size,stride=1, padding=0,\n",
        "        self.conv2 = nn.Conv2d(10, 20, kernel_size=5) # maxpool2d torch.nn.MaxPool2d(kernel_size)\n",
        "        self.conv2_drop = nn.Dropout2d()\n",
        "        self.fc1 = nn.Linear(320, 50)\n",
        "        self.fc2 = nn.Linear(50, 10)\n",
        "    def forward(self, x):\n",
        "        x = F.relu(F.max_pool2d(self.conv1(x), 2)) #32*32*1 -> 28*28*10->14*14*10\n",
        "        x = F.relu(F.max_pool2d(self.conv2_drop(self.conv2(x)), 2)) #14*14*10->10*10*20->5*5*20 \n",
        "        x = x.view(-1, 320)  #500->320\n",
        "        x = F.relu(self.fc1(x))\n",
        "        x = F.dropout(x, training=self.training)\n",
        "        x = self.fc2(x)\n",
        "        return F.log_softmax(x)"
      ],
      "metadata": {
        "id": "qoVAyw07pY_N"
      },
      "execution_count": 33,
      "outputs": []
    },
    {
      "cell_type": "code",
      "source": [
        "network = Net().to(device)\n",
        "optimizer = optim.SGD(network.parameters(), lr=learning_rate,\n",
        "                      momentum=momentum)"
      ],
      "metadata": {
        "id": "QjwB4dPQshmr"
      },
      "execution_count": 34,
      "outputs": []
    },
    {
      "cell_type": "code",
      "source": [
        "train_losses = []\n",
        "train_counter = []\n",
        "test_losses = []\n",
        "test_counter = [i*len(train_loader.dataset) for i in range(n_epochs + 1)]"
      ],
      "metadata": {
        "id": "1zABQECVsmV2"
      },
      "execution_count": 35,
      "outputs": []
    },
    {
      "cell_type": "code",
      "source": [
        "def train(epoch):\n",
        "  network.train()\n",
        "  for batch_idx, (data, target) in enumerate(train_loader):\n",
        "    data, target = data.to(device), target.to(device)\n",
        "    optimizer.zero_grad()\n",
        "    output = network(data)\n",
        "    loss = F.nll_loss(output, target)\n",
        "    loss.backward()\n",
        "    optimizer.step()\n",
        "    if batch_idx % log_interval == 0:\n",
        "      print('Train Epoch: {} [{}/{} ({:.0f}%)]\\tLoss: {:.6f}'.format(\n",
        "        epoch, batch_idx * len(data), len(train_loader.dataset),\n",
        "        100. * batch_idx / len(train_loader), loss.item()))\n",
        "      train_losses.append(loss.item())\n",
        "      train_counter.append(\n",
        "        (batch_idx*64) + ((epoch-1)*len(train_loader.dataset)))\n",
        "      torch.save(network.state_dict(), '/content/results/model.pth')\n",
        "      torch.save(optimizer.state_dict(), '/content/results/optimizer.pth')"
      ],
      "metadata": {
        "id": "MUyDCneKtQI4"
      },
      "execution_count": 36,
      "outputs": []
    },
    {
      "cell_type": "code",
      "source": [
        "!mkdir results"
      ],
      "metadata": {
        "id": "di0d_DjTwuJk"
      },
      "execution_count": 17,
      "outputs": []
    },
    {
      "cell_type": "code",
      "source": [
        "def test():\n",
        "  network.eval()\n",
        "  test_loss = 0\n",
        "  correct = 0\n",
        "  with torch.no_grad():\n",
        "    for data, target in test_loader:\n",
        "\n",
        "      data, target = data.to(device), target.to(device)\n",
        "      output = network(data)\n",
        "      test_loss += F.nll_loss(output, target, size_average=False).item()\n",
        "      pred = output.data.max(1, keepdim=True)[1]\n",
        "      correct += pred.eq(target.data.view_as(pred)).sum()\n",
        "  test_loss /= len(test_loader.dataset)\n",
        "  test_losses.append(test_loss)\n",
        "  print('\\nTest set: Avg. loss: {:.4f}, Accuracy: {}/{} ({:.0f}%)\\n'.format(\n",
        "    test_loss, correct, len(test_loader.dataset),\n",
        "    100. * correct / len(test_loader.dataset)))"
      ],
      "metadata": {
        "id": "cnXintxwtewP"
      },
      "execution_count": 37,
      "outputs": []
    },
    {
      "cell_type": "code",
      "source": [
        "for epoch in range(1, n_epochs + 1):\n",
        "  train(epoch)\n",
        "  test()"
      ],
      "metadata": {
        "colab": {
          "base_uri": "https://localhost:8080/"
        },
        "id": "9PNzMnUQttnx",
        "outputId": "078ca6e6-97c0-40d1-e040-6637972d8e36"
      },
      "execution_count": 38,
      "outputs": [
        {
          "output_type": "stream",
          "name": "stderr",
          "text": [
            "<ipython-input-33-6d2a1312227a>:17: UserWarning: Implicit dimension choice for log_softmax has been deprecated. Change the call to include dim=X as an argument.\n",
            "  return F.log_softmax(x)\n"
          ]
        },
        {
          "output_type": "stream",
          "name": "stdout",
          "text": [
            "Train Epoch: 1 [0/60000 (0%)]\tLoss: 2.277653\n",
            "Train Epoch: 1 [640/60000 (1%)]\tLoss: 2.304374\n",
            "Train Epoch: 1 [1280/60000 (2%)]\tLoss: 2.293264\n",
            "Train Epoch: 1 [1920/60000 (3%)]\tLoss: 2.296668\n",
            "Train Epoch: 1 [2560/60000 (4%)]\tLoss: 2.273478\n",
            "Train Epoch: 1 [3200/60000 (5%)]\tLoss: 2.195527\n",
            "Train Epoch: 1 [3840/60000 (6%)]\tLoss: 2.223637\n",
            "Train Epoch: 1 [4480/60000 (7%)]\tLoss: 2.237352\n",
            "Train Epoch: 1 [5120/60000 (9%)]\tLoss: 2.144112\n",
            "Train Epoch: 1 [5760/60000 (10%)]\tLoss: 2.021623\n",
            "Train Epoch: 1 [6400/60000 (11%)]\tLoss: 1.737563\n",
            "Train Epoch: 1 [7040/60000 (12%)]\tLoss: 1.738520\n",
            "Train Epoch: 1 [7680/60000 (13%)]\tLoss: 1.776838\n",
            "Train Epoch: 1 [8320/60000 (14%)]\tLoss: 1.659537\n",
            "Train Epoch: 1 [8960/60000 (15%)]\tLoss: 1.495528\n",
            "Train Epoch: 1 [9600/60000 (16%)]\tLoss: 1.702995\n",
            "Train Epoch: 1 [10240/60000 (17%)]\tLoss: 1.327607\n",
            "Train Epoch: 1 [10880/60000 (18%)]\tLoss: 1.323891\n",
            "Train Epoch: 1 [11520/60000 (19%)]\tLoss: 1.051294\n",
            "Train Epoch: 1 [12160/60000 (20%)]\tLoss: 1.233832\n",
            "Train Epoch: 1 [12800/60000 (21%)]\tLoss: 0.974517\n",
            "Train Epoch: 1 [13440/60000 (22%)]\tLoss: 1.135182\n",
            "Train Epoch: 1 [14080/60000 (23%)]\tLoss: 1.162543\n",
            "Train Epoch: 1 [14720/60000 (25%)]\tLoss: 1.189735\n",
            "Train Epoch: 1 [15360/60000 (26%)]\tLoss: 0.919967\n",
            "Train Epoch: 1 [16000/60000 (27%)]\tLoss: 1.261909\n",
            "Train Epoch: 1 [16640/60000 (28%)]\tLoss: 1.031489\n",
            "Train Epoch: 1 [17280/60000 (29%)]\tLoss: 0.739208\n",
            "Train Epoch: 1 [17920/60000 (30%)]\tLoss: 0.812143\n",
            "Train Epoch: 1 [18560/60000 (31%)]\tLoss: 0.749888\n",
            "Train Epoch: 1 [19200/60000 (32%)]\tLoss: 0.863895\n",
            "Train Epoch: 1 [19840/60000 (33%)]\tLoss: 0.758157\n",
            "Train Epoch: 1 [20480/60000 (34%)]\tLoss: 0.831995\n",
            "Train Epoch: 1 [21120/60000 (35%)]\tLoss: 0.842985\n",
            "Train Epoch: 1 [21760/60000 (36%)]\tLoss: 0.825903\n",
            "Train Epoch: 1 [22400/60000 (37%)]\tLoss: 0.756479\n",
            "Train Epoch: 1 [23040/60000 (38%)]\tLoss: 0.641959\n",
            "Train Epoch: 1 [23680/60000 (39%)]\tLoss: 0.559344\n",
            "Train Epoch: 1 [24320/60000 (41%)]\tLoss: 0.681374\n",
            "Train Epoch: 1 [24960/60000 (42%)]\tLoss: 0.729402\n",
            "Train Epoch: 1 [25600/60000 (43%)]\tLoss: 0.677011\n",
            "Train Epoch: 1 [26240/60000 (44%)]\tLoss: 0.773392\n",
            "Train Epoch: 1 [26880/60000 (45%)]\tLoss: 0.660253\n",
            "Train Epoch: 1 [27520/60000 (46%)]\tLoss: 0.787525\n",
            "Train Epoch: 1 [28160/60000 (47%)]\tLoss: 0.729606\n",
            "Train Epoch: 1 [28800/60000 (48%)]\tLoss: 0.610093\n",
            "Train Epoch: 1 [29440/60000 (49%)]\tLoss: 0.589017\n",
            "Train Epoch: 1 [30080/60000 (50%)]\tLoss: 0.548103\n",
            "Train Epoch: 1 [30720/60000 (51%)]\tLoss: 0.502058\n",
            "Train Epoch: 1 [31360/60000 (52%)]\tLoss: 0.779865\n",
            "Train Epoch: 1 [32000/60000 (53%)]\tLoss: 0.596740\n",
            "Train Epoch: 1 [32640/60000 (54%)]\tLoss: 0.721201\n",
            "Train Epoch: 1 [33280/60000 (55%)]\tLoss: 0.677434\n",
            "Train Epoch: 1 [33920/60000 (57%)]\tLoss: 0.591770\n",
            "Train Epoch: 1 [34560/60000 (58%)]\tLoss: 0.783441\n",
            "Train Epoch: 1 [35200/60000 (59%)]\tLoss: 0.704992\n",
            "Train Epoch: 1 [35840/60000 (60%)]\tLoss: 0.376270\n",
            "Train Epoch: 1 [36480/60000 (61%)]\tLoss: 0.508675\n",
            "Train Epoch: 1 [37120/60000 (62%)]\tLoss: 0.393494\n",
            "Train Epoch: 1 [37760/60000 (63%)]\tLoss: 0.612405\n",
            "Train Epoch: 1 [38400/60000 (64%)]\tLoss: 0.635684\n",
            "Train Epoch: 1 [39040/60000 (65%)]\tLoss: 0.579598\n",
            "Train Epoch: 1 [39680/60000 (66%)]\tLoss: 0.662033\n",
            "Train Epoch: 1 [40320/60000 (67%)]\tLoss: 0.713673\n",
            "Train Epoch: 1 [40960/60000 (68%)]\tLoss: 0.502075\n",
            "Train Epoch: 1 [41600/60000 (69%)]\tLoss: 0.299774\n",
            "Train Epoch: 1 [42240/60000 (70%)]\tLoss: 0.492444\n",
            "Train Epoch: 1 [42880/60000 (71%)]\tLoss: 0.600738\n",
            "Train Epoch: 1 [43520/60000 (72%)]\tLoss: 0.494414\n",
            "Train Epoch: 1 [44160/60000 (74%)]\tLoss: 0.475686\n",
            "Train Epoch: 1 [44800/60000 (75%)]\tLoss: 0.553515\n",
            "Train Epoch: 1 [45440/60000 (76%)]\tLoss: 0.442212\n",
            "Train Epoch: 1 [46080/60000 (77%)]\tLoss: 0.478553\n",
            "Train Epoch: 1 [46720/60000 (78%)]\tLoss: 0.387589\n",
            "Train Epoch: 1 [47360/60000 (79%)]\tLoss: 0.373040\n",
            "Train Epoch: 1 [48000/60000 (80%)]\tLoss: 0.383389\n",
            "Train Epoch: 1 [48640/60000 (81%)]\tLoss: 0.536199\n",
            "Train Epoch: 1 [49280/60000 (82%)]\tLoss: 0.530660\n",
            "Train Epoch: 1 [49920/60000 (83%)]\tLoss: 0.521647\n",
            "Train Epoch: 1 [50560/60000 (84%)]\tLoss: 0.413842\n",
            "Train Epoch: 1 [51200/60000 (85%)]\tLoss: 0.334569\n",
            "Train Epoch: 1 [51840/60000 (86%)]\tLoss: 0.543742\n",
            "Train Epoch: 1 [52480/60000 (87%)]\tLoss: 0.451117\n",
            "Train Epoch: 1 [53120/60000 (88%)]\tLoss: 0.666047\n",
            "Train Epoch: 1 [53760/60000 (90%)]\tLoss: 0.582724\n",
            "Train Epoch: 1 [54400/60000 (91%)]\tLoss: 0.390176\n",
            "Train Epoch: 1 [55040/60000 (92%)]\tLoss: 0.407070\n",
            "Train Epoch: 1 [55680/60000 (93%)]\tLoss: 0.360576\n",
            "Train Epoch: 1 [56320/60000 (94%)]\tLoss: 0.526907\n",
            "Train Epoch: 1 [56960/60000 (95%)]\tLoss: 0.370236\n",
            "Train Epoch: 1 [57600/60000 (96%)]\tLoss: 0.424246\n",
            "Train Epoch: 1 [58240/60000 (97%)]\tLoss: 0.570920\n",
            "Train Epoch: 1 [58880/60000 (98%)]\tLoss: 0.452538\n",
            "Train Epoch: 1 [59520/60000 (99%)]\tLoss: 0.440357\n"
          ]
        },
        {
          "output_type": "stream",
          "name": "stderr",
          "text": [
            "/usr/local/lib/python3.8/dist-packages/torch/nn/_reduction.py:42: UserWarning: size_average and reduce args will be deprecated, please use reduction='sum' instead.\n",
            "  warnings.warn(warning.format(ret))\n"
          ]
        },
        {
          "output_type": "stream",
          "name": "stdout",
          "text": [
            "\n",
            "Test set: Avg. loss: 0.1863, Accuracy: 9467/10000 (95%)\n",
            "\n",
            "Train Epoch: 2 [0/60000 (0%)]\tLoss: 0.650365\n",
            "Train Epoch: 2 [640/60000 (1%)]\tLoss: 0.365386\n",
            "Train Epoch: 2 [1280/60000 (2%)]\tLoss: 0.542788\n",
            "Train Epoch: 2 [1920/60000 (3%)]\tLoss: 0.522186\n",
            "Train Epoch: 2 [2560/60000 (4%)]\tLoss: 0.510018\n",
            "Train Epoch: 2 [3200/60000 (5%)]\tLoss: 0.317506\n",
            "Train Epoch: 2 [3840/60000 (6%)]\tLoss: 0.367733\n",
            "Train Epoch: 2 [4480/60000 (7%)]\tLoss: 0.439160\n",
            "Train Epoch: 2 [5120/60000 (9%)]\tLoss: 0.520808\n",
            "Train Epoch: 2 [5760/60000 (10%)]\tLoss: 0.368461\n",
            "Train Epoch: 2 [6400/60000 (11%)]\tLoss: 0.352744\n",
            "Train Epoch: 2 [7040/60000 (12%)]\tLoss: 0.419952\n",
            "Train Epoch: 2 [7680/60000 (13%)]\tLoss: 0.307199\n",
            "Train Epoch: 2 [8320/60000 (14%)]\tLoss: 0.634961\n",
            "Train Epoch: 2 [8960/60000 (15%)]\tLoss: 0.331228\n",
            "Train Epoch: 2 [9600/60000 (16%)]\tLoss: 0.233605\n",
            "Train Epoch: 2 [10240/60000 (17%)]\tLoss: 0.437228\n",
            "Train Epoch: 2 [10880/60000 (18%)]\tLoss: 0.491084\n",
            "Train Epoch: 2 [11520/60000 (19%)]\tLoss: 0.448297\n",
            "Train Epoch: 2 [12160/60000 (20%)]\tLoss: 0.361321\n",
            "Train Epoch: 2 [12800/60000 (21%)]\tLoss: 0.232491\n",
            "Train Epoch: 2 [13440/60000 (22%)]\tLoss: 0.216458\n",
            "Train Epoch: 2 [14080/60000 (23%)]\tLoss: 0.448003\n",
            "Train Epoch: 2 [14720/60000 (25%)]\tLoss: 0.443597\n",
            "Train Epoch: 2 [15360/60000 (26%)]\tLoss: 0.327170\n",
            "Train Epoch: 2 [16000/60000 (27%)]\tLoss: 0.360243\n",
            "Train Epoch: 2 [16640/60000 (28%)]\tLoss: 0.229701\n",
            "Train Epoch: 2 [17280/60000 (29%)]\tLoss: 0.528533\n",
            "Train Epoch: 2 [17920/60000 (30%)]\tLoss: 0.405480\n",
            "Train Epoch: 2 [18560/60000 (31%)]\tLoss: 0.292319\n",
            "Train Epoch: 2 [19200/60000 (32%)]\tLoss: 0.279395\n",
            "Train Epoch: 2 [19840/60000 (33%)]\tLoss: 0.474020\n",
            "Train Epoch: 2 [20480/60000 (34%)]\tLoss: 0.311493\n",
            "Train Epoch: 2 [21120/60000 (35%)]\tLoss: 0.155790\n",
            "Train Epoch: 2 [21760/60000 (36%)]\tLoss: 0.558419\n",
            "Train Epoch: 2 [22400/60000 (37%)]\tLoss: 0.285683\n",
            "Train Epoch: 2 [23040/60000 (38%)]\tLoss: 0.305781\n",
            "Train Epoch: 2 [23680/60000 (39%)]\tLoss: 0.516437\n",
            "Train Epoch: 2 [24320/60000 (41%)]\tLoss: 0.452890\n",
            "Train Epoch: 2 [24960/60000 (42%)]\tLoss: 0.166628\n",
            "Train Epoch: 2 [25600/60000 (43%)]\tLoss: 0.399123\n",
            "Train Epoch: 2 [26240/60000 (44%)]\tLoss: 0.390906\n",
            "Train Epoch: 2 [26880/60000 (45%)]\tLoss: 0.476382\n",
            "Train Epoch: 2 [27520/60000 (46%)]\tLoss: 0.274719\n",
            "Train Epoch: 2 [28160/60000 (47%)]\tLoss: 0.177881\n",
            "Train Epoch: 2 [28800/60000 (48%)]\tLoss: 0.397168\n",
            "Train Epoch: 2 [29440/60000 (49%)]\tLoss: 0.331565\n",
            "Train Epoch: 2 [30080/60000 (50%)]\tLoss: 0.372712\n",
            "Train Epoch: 2 [30720/60000 (51%)]\tLoss: 0.462228\n",
            "Train Epoch: 2 [31360/60000 (52%)]\tLoss: 0.313941\n",
            "Train Epoch: 2 [32000/60000 (53%)]\tLoss: 0.500744\n",
            "Train Epoch: 2 [32640/60000 (54%)]\tLoss: 0.217787\n",
            "Train Epoch: 2 [33280/60000 (55%)]\tLoss: 0.296055\n",
            "Train Epoch: 2 [33920/60000 (57%)]\tLoss: 0.212234\n",
            "Train Epoch: 2 [34560/60000 (58%)]\tLoss: 0.224272\n",
            "Train Epoch: 2 [35200/60000 (59%)]\tLoss: 0.524909\n",
            "Train Epoch: 2 [35840/60000 (60%)]\tLoss: 0.101719\n",
            "Train Epoch: 2 [36480/60000 (61%)]\tLoss: 0.339858\n",
            "Train Epoch: 2 [37120/60000 (62%)]\tLoss: 0.246868\n",
            "Train Epoch: 2 [37760/60000 (63%)]\tLoss: 0.472592\n",
            "Train Epoch: 2 [38400/60000 (64%)]\tLoss: 0.263431\n",
            "Train Epoch: 2 [39040/60000 (65%)]\tLoss: 0.287617\n",
            "Train Epoch: 2 [39680/60000 (66%)]\tLoss: 0.279262\n",
            "Train Epoch: 2 [40320/60000 (67%)]\tLoss: 0.299160\n",
            "Train Epoch: 2 [40960/60000 (68%)]\tLoss: 0.474228\n",
            "Train Epoch: 2 [41600/60000 (69%)]\tLoss: 0.486153\n",
            "Train Epoch: 2 [42240/60000 (70%)]\tLoss: 0.311068\n",
            "Train Epoch: 2 [42880/60000 (71%)]\tLoss: 0.477098\n",
            "Train Epoch: 2 [43520/60000 (72%)]\tLoss: 0.449465\n",
            "Train Epoch: 2 [44160/60000 (74%)]\tLoss: 0.355589\n",
            "Train Epoch: 2 [44800/60000 (75%)]\tLoss: 0.432696\n",
            "Train Epoch: 2 [45440/60000 (76%)]\tLoss: 0.222398\n",
            "Train Epoch: 2 [46080/60000 (77%)]\tLoss: 0.558745\n",
            "Train Epoch: 2 [46720/60000 (78%)]\tLoss: 0.265975\n",
            "Train Epoch: 2 [47360/60000 (79%)]\tLoss: 0.263934\n",
            "Train Epoch: 2 [48000/60000 (80%)]\tLoss: 0.528469\n",
            "Train Epoch: 2 [48640/60000 (81%)]\tLoss: 0.291502\n",
            "Train Epoch: 2 [49280/60000 (82%)]\tLoss: 0.284086\n",
            "Train Epoch: 2 [49920/60000 (83%)]\tLoss: 0.393920\n",
            "Train Epoch: 2 [50560/60000 (84%)]\tLoss: 0.319547\n",
            "Train Epoch: 2 [51200/60000 (85%)]\tLoss: 0.172740\n",
            "Train Epoch: 2 [51840/60000 (86%)]\tLoss: 0.237648\n",
            "Train Epoch: 2 [52480/60000 (87%)]\tLoss: 0.339968\n",
            "Train Epoch: 2 [53120/60000 (88%)]\tLoss: 0.217363\n",
            "Train Epoch: 2 [53760/60000 (90%)]\tLoss: 0.204004\n",
            "Train Epoch: 2 [54400/60000 (91%)]\tLoss: 0.216838\n",
            "Train Epoch: 2 [55040/60000 (92%)]\tLoss: 0.167785\n",
            "Train Epoch: 2 [55680/60000 (93%)]\tLoss: 0.436937\n",
            "Train Epoch: 2 [56320/60000 (94%)]\tLoss: 0.393299\n",
            "Train Epoch: 2 [56960/60000 (95%)]\tLoss: 0.203422\n",
            "Train Epoch: 2 [57600/60000 (96%)]\tLoss: 0.169487\n",
            "Train Epoch: 2 [58240/60000 (97%)]\tLoss: 0.463031\n",
            "Train Epoch: 2 [58880/60000 (98%)]\tLoss: 0.298864\n",
            "Train Epoch: 2 [59520/60000 (99%)]\tLoss: 0.276588\n",
            "\n",
            "Test set: Avg. loss: 0.1080, Accuracy: 9691/10000 (97%)\n",
            "\n",
            "Train Epoch: 3 [0/60000 (0%)]\tLoss: 0.442708\n",
            "Train Epoch: 3 [640/60000 (1%)]\tLoss: 0.563563\n",
            "Train Epoch: 3 [1280/60000 (2%)]\tLoss: 0.339585\n",
            "Train Epoch: 3 [1920/60000 (3%)]\tLoss: 0.584167\n",
            "Train Epoch: 3 [2560/60000 (4%)]\tLoss: 0.343486\n",
            "Train Epoch: 3 [3200/60000 (5%)]\tLoss: 0.245675\n",
            "Train Epoch: 3 [3840/60000 (6%)]\tLoss: 0.263770\n",
            "Train Epoch: 3 [4480/60000 (7%)]\tLoss: 0.581960\n",
            "Train Epoch: 3 [5120/60000 (9%)]\tLoss: 0.256264\n",
            "Train Epoch: 3 [5760/60000 (10%)]\tLoss: 0.383740\n",
            "Train Epoch: 3 [6400/60000 (11%)]\tLoss: 0.297046\n",
            "Train Epoch: 3 [7040/60000 (12%)]\tLoss: 0.641316\n",
            "Train Epoch: 3 [7680/60000 (13%)]\tLoss: 0.341541\n",
            "Train Epoch: 3 [8320/60000 (14%)]\tLoss: 0.409369\n",
            "Train Epoch: 3 [8960/60000 (15%)]\tLoss: 0.202814\n",
            "Train Epoch: 3 [9600/60000 (16%)]\tLoss: 0.147494\n",
            "Train Epoch: 3 [10240/60000 (17%)]\tLoss: 0.666179\n",
            "Train Epoch: 3 [10880/60000 (18%)]\tLoss: 0.437314\n",
            "Train Epoch: 3 [11520/60000 (19%)]\tLoss: 0.312880\n",
            "Train Epoch: 3 [12160/60000 (20%)]\tLoss: 0.260594\n",
            "Train Epoch: 3 [12800/60000 (21%)]\tLoss: 0.261963\n",
            "Train Epoch: 3 [13440/60000 (22%)]\tLoss: 0.331053\n",
            "Train Epoch: 3 [14080/60000 (23%)]\tLoss: 0.371784\n",
            "Train Epoch: 3 [14720/60000 (25%)]\tLoss: 0.223159\n",
            "Train Epoch: 3 [15360/60000 (26%)]\tLoss: 0.334208\n",
            "Train Epoch: 3 [16000/60000 (27%)]\tLoss: 0.126565\n",
            "Train Epoch: 3 [16640/60000 (28%)]\tLoss: 0.356958\n",
            "Train Epoch: 3 [17280/60000 (29%)]\tLoss: 0.324430\n",
            "Train Epoch: 3 [17920/60000 (30%)]\tLoss: 0.400961\n",
            "Train Epoch: 3 [18560/60000 (31%)]\tLoss: 0.403348\n",
            "Train Epoch: 3 [19200/60000 (32%)]\tLoss: 0.382802\n",
            "Train Epoch: 3 [19840/60000 (33%)]\tLoss: 0.410581\n",
            "Train Epoch: 3 [20480/60000 (34%)]\tLoss: 0.376998\n",
            "Train Epoch: 3 [21120/60000 (35%)]\tLoss: 0.415599\n",
            "Train Epoch: 3 [21760/60000 (36%)]\tLoss: 0.275188\n",
            "Train Epoch: 3 [22400/60000 (37%)]\tLoss: 0.254133\n",
            "Train Epoch: 3 [23040/60000 (38%)]\tLoss: 0.310692\n",
            "Train Epoch: 3 [23680/60000 (39%)]\tLoss: 0.300530\n",
            "Train Epoch: 3 [24320/60000 (41%)]\tLoss: 0.162345\n",
            "Train Epoch: 3 [24960/60000 (42%)]\tLoss: 0.421613\n",
            "Train Epoch: 3 [25600/60000 (43%)]\tLoss: 0.435766\n",
            "Train Epoch: 3 [26240/60000 (44%)]\tLoss: 0.334621\n",
            "Train Epoch: 3 [26880/60000 (45%)]\tLoss: 0.355318\n",
            "Train Epoch: 3 [27520/60000 (46%)]\tLoss: 0.371830\n",
            "Train Epoch: 3 [28160/60000 (47%)]\tLoss: 0.258570\n",
            "Train Epoch: 3 [28800/60000 (48%)]\tLoss: 0.396674\n",
            "Train Epoch: 3 [29440/60000 (49%)]\tLoss: 0.444371\n",
            "Train Epoch: 3 [30080/60000 (50%)]\tLoss: 0.308749\n",
            "Train Epoch: 3 [30720/60000 (51%)]\tLoss: 0.290616\n",
            "Train Epoch: 3 [31360/60000 (52%)]\tLoss: 0.282148\n",
            "Train Epoch: 3 [32000/60000 (53%)]\tLoss: 0.310871\n",
            "Train Epoch: 3 [32640/60000 (54%)]\tLoss: 0.246058\n",
            "Train Epoch: 3 [33280/60000 (55%)]\tLoss: 0.293420\n",
            "Train Epoch: 3 [33920/60000 (57%)]\tLoss: 0.448828\n",
            "Train Epoch: 3 [34560/60000 (58%)]\tLoss: 0.381034\n",
            "Train Epoch: 3 [35200/60000 (59%)]\tLoss: 0.353347\n",
            "Train Epoch: 3 [35840/60000 (60%)]\tLoss: 0.464709\n",
            "Train Epoch: 3 [36480/60000 (61%)]\tLoss: 0.243433\n",
            "Train Epoch: 3 [37120/60000 (62%)]\tLoss: 0.224333\n",
            "Train Epoch: 3 [37760/60000 (63%)]\tLoss: 0.228607\n",
            "Train Epoch: 3 [38400/60000 (64%)]\tLoss: 0.246115\n",
            "Train Epoch: 3 [39040/60000 (65%)]\tLoss: 0.299277\n",
            "Train Epoch: 3 [39680/60000 (66%)]\tLoss: 0.352169\n",
            "Train Epoch: 3 [40320/60000 (67%)]\tLoss: 0.293285\n",
            "Train Epoch: 3 [40960/60000 (68%)]\tLoss: 0.284294\n",
            "Train Epoch: 3 [41600/60000 (69%)]\tLoss: 0.326541\n",
            "Train Epoch: 3 [42240/60000 (70%)]\tLoss: 0.208199\n",
            "Train Epoch: 3 [42880/60000 (71%)]\tLoss: 0.123845\n",
            "Train Epoch: 3 [43520/60000 (72%)]\tLoss: 0.135917\n",
            "Train Epoch: 3 [44160/60000 (74%)]\tLoss: 0.151875\n",
            "Train Epoch: 3 [44800/60000 (75%)]\tLoss: 0.246581\n",
            "Train Epoch: 3 [45440/60000 (76%)]\tLoss: 0.249268\n",
            "Train Epoch: 3 [46080/60000 (77%)]\tLoss: 0.247641\n",
            "Train Epoch: 3 [46720/60000 (78%)]\tLoss: 0.200729\n",
            "Train Epoch: 3 [47360/60000 (79%)]\tLoss: 0.272516\n",
            "Train Epoch: 3 [48000/60000 (80%)]\tLoss: 0.291626\n",
            "Train Epoch: 3 [48640/60000 (81%)]\tLoss: 0.233630\n",
            "Train Epoch: 3 [49280/60000 (82%)]\tLoss: 0.250756\n",
            "Train Epoch: 3 [49920/60000 (83%)]\tLoss: 0.200618\n",
            "Train Epoch: 3 [50560/60000 (84%)]\tLoss: 0.296040\n",
            "Train Epoch: 3 [51200/60000 (85%)]\tLoss: 0.114128\n",
            "Train Epoch: 3 [51840/60000 (86%)]\tLoss: 0.580794\n",
            "Train Epoch: 3 [52480/60000 (87%)]\tLoss: 0.360405\n",
            "Train Epoch: 3 [53120/60000 (88%)]\tLoss: 0.246441\n",
            "Train Epoch: 3 [53760/60000 (90%)]\tLoss: 0.196754\n",
            "Train Epoch: 3 [54400/60000 (91%)]\tLoss: 0.192618\n",
            "Train Epoch: 3 [55040/60000 (92%)]\tLoss: 0.277605\n",
            "Train Epoch: 3 [55680/60000 (93%)]\tLoss: 0.247997\n",
            "Train Epoch: 3 [56320/60000 (94%)]\tLoss: 0.338693\n",
            "Train Epoch: 3 [56960/60000 (95%)]\tLoss: 0.434531\n",
            "Train Epoch: 3 [57600/60000 (96%)]\tLoss: 0.439478\n",
            "Train Epoch: 3 [58240/60000 (97%)]\tLoss: 0.280340\n",
            "Train Epoch: 3 [58880/60000 (98%)]\tLoss: 0.282367\n",
            "Train Epoch: 3 [59520/60000 (99%)]\tLoss: 0.220169\n",
            "\n",
            "Test set: Avg. loss: 0.0878, Accuracy: 9722/10000 (97%)\n",
            "\n",
            "Train Epoch: 4 [0/60000 (0%)]\tLoss: 0.279162\n",
            "Train Epoch: 4 [640/60000 (1%)]\tLoss: 0.220385\n",
            "Train Epoch: 4 [1280/60000 (2%)]\tLoss: 0.211521\n",
            "Train Epoch: 4 [1920/60000 (3%)]\tLoss: 0.426159\n",
            "Train Epoch: 4 [2560/60000 (4%)]\tLoss: 0.441757\n",
            "Train Epoch: 4 [3200/60000 (5%)]\tLoss: 0.385132\n",
            "Train Epoch: 4 [3840/60000 (6%)]\tLoss: 0.204614\n",
            "Train Epoch: 4 [4480/60000 (7%)]\tLoss: 0.258982\n",
            "Train Epoch: 4 [5120/60000 (9%)]\tLoss: 0.369415\n",
            "Train Epoch: 4 [5760/60000 (10%)]\tLoss: 0.129217\n",
            "Train Epoch: 4 [6400/60000 (11%)]\tLoss: 0.288193\n",
            "Train Epoch: 4 [7040/60000 (12%)]\tLoss: 0.130529\n",
            "Train Epoch: 4 [7680/60000 (13%)]\tLoss: 0.173797\n",
            "Train Epoch: 4 [8320/60000 (14%)]\tLoss: 0.397658\n",
            "Train Epoch: 4 [8960/60000 (15%)]\tLoss: 0.246769\n",
            "Train Epoch: 4 [9600/60000 (16%)]\tLoss: 0.192651\n",
            "Train Epoch: 4 [10240/60000 (17%)]\tLoss: 0.502273\n",
            "Train Epoch: 4 [10880/60000 (18%)]\tLoss: 0.335721\n",
            "Train Epoch: 4 [11520/60000 (19%)]\tLoss: 0.258276\n",
            "Train Epoch: 4 [12160/60000 (20%)]\tLoss: 0.271828\n",
            "Train Epoch: 4 [12800/60000 (21%)]\tLoss: 0.212106\n",
            "Train Epoch: 4 [13440/60000 (22%)]\tLoss: 0.449813\n",
            "Train Epoch: 4 [14080/60000 (23%)]\tLoss: 0.264953\n",
            "Train Epoch: 4 [14720/60000 (25%)]\tLoss: 0.249369\n",
            "Train Epoch: 4 [15360/60000 (26%)]\tLoss: 0.166173\n",
            "Train Epoch: 4 [16000/60000 (27%)]\tLoss: 0.277480\n",
            "Train Epoch: 4 [16640/60000 (28%)]\tLoss: 0.388652\n",
            "Train Epoch: 4 [17280/60000 (29%)]\tLoss: 0.411555\n",
            "Train Epoch: 4 [17920/60000 (30%)]\tLoss: 0.332231\n",
            "Train Epoch: 4 [18560/60000 (31%)]\tLoss: 0.214942\n",
            "Train Epoch: 4 [19200/60000 (32%)]\tLoss: 0.308854\n",
            "Train Epoch: 4 [19840/60000 (33%)]\tLoss: 0.235115\n",
            "Train Epoch: 4 [20480/60000 (34%)]\tLoss: 0.205375\n",
            "Train Epoch: 4 [21120/60000 (35%)]\tLoss: 0.224115\n",
            "Train Epoch: 4 [21760/60000 (36%)]\tLoss: 0.375815\n",
            "Train Epoch: 4 [22400/60000 (37%)]\tLoss: 0.509592\n",
            "Train Epoch: 4 [23040/60000 (38%)]\tLoss: 0.269361\n",
            "Train Epoch: 4 [23680/60000 (39%)]\tLoss: 0.288821\n",
            "Train Epoch: 4 [24320/60000 (41%)]\tLoss: 0.214519\n",
            "Train Epoch: 4 [24960/60000 (42%)]\tLoss: 0.205133\n",
            "Train Epoch: 4 [25600/60000 (43%)]\tLoss: 0.214167\n",
            "Train Epoch: 4 [26240/60000 (44%)]\tLoss: 0.292012\n",
            "Train Epoch: 4 [26880/60000 (45%)]\tLoss: 0.110563\n",
            "Train Epoch: 4 [27520/60000 (46%)]\tLoss: 0.166665\n",
            "Train Epoch: 4 [28160/60000 (47%)]\tLoss: 0.360275\n",
            "Train Epoch: 4 [28800/60000 (48%)]\tLoss: 0.253632\n",
            "Train Epoch: 4 [29440/60000 (49%)]\tLoss: 0.538217\n",
            "Train Epoch: 4 [30080/60000 (50%)]\tLoss: 0.192408\n",
            "Train Epoch: 4 [30720/60000 (51%)]\tLoss: 0.399941\n",
            "Train Epoch: 4 [31360/60000 (52%)]\tLoss: 0.284428\n",
            "Train Epoch: 4 [32000/60000 (53%)]\tLoss: 0.197436\n",
            "Train Epoch: 4 [32640/60000 (54%)]\tLoss: 0.189780\n",
            "Train Epoch: 4 [33280/60000 (55%)]\tLoss: 0.166832\n",
            "Train Epoch: 4 [33920/60000 (57%)]\tLoss: 0.169288\n",
            "Train Epoch: 4 [34560/60000 (58%)]\tLoss: 0.226854\n",
            "Train Epoch: 4 [35200/60000 (59%)]\tLoss: 0.333220\n",
            "Train Epoch: 4 [35840/60000 (60%)]\tLoss: 0.187112\n",
            "Train Epoch: 4 [36480/60000 (61%)]\tLoss: 0.153213\n",
            "Train Epoch: 4 [37120/60000 (62%)]\tLoss: 0.145549\n",
            "Train Epoch: 4 [37760/60000 (63%)]\tLoss: 0.224483\n",
            "Train Epoch: 4 [38400/60000 (64%)]\tLoss: 0.306901\n",
            "Train Epoch: 4 [39040/60000 (65%)]\tLoss: 0.284005\n",
            "Train Epoch: 4 [39680/60000 (66%)]\tLoss: 0.139347\n",
            "Train Epoch: 4 [40320/60000 (67%)]\tLoss: 0.151170\n",
            "Train Epoch: 4 [40960/60000 (68%)]\tLoss: 0.329558\n",
            "Train Epoch: 4 [41600/60000 (69%)]\tLoss: 0.255221\n",
            "Train Epoch: 4 [42240/60000 (70%)]\tLoss: 0.336063\n",
            "Train Epoch: 4 [42880/60000 (71%)]\tLoss: 0.224244\n",
            "Train Epoch: 4 [43520/60000 (72%)]\tLoss: 0.178082\n",
            "Train Epoch: 4 [44160/60000 (74%)]\tLoss: 0.240397\n",
            "Train Epoch: 4 [44800/60000 (75%)]\tLoss: 0.330530\n",
            "Train Epoch: 4 [45440/60000 (76%)]\tLoss: 0.381047\n",
            "Train Epoch: 4 [46080/60000 (77%)]\tLoss: 0.182235\n",
            "Train Epoch: 4 [46720/60000 (78%)]\tLoss: 0.268059\n",
            "Train Epoch: 4 [47360/60000 (79%)]\tLoss: 0.209667\n",
            "Train Epoch: 4 [48000/60000 (80%)]\tLoss: 0.211746\n",
            "Train Epoch: 4 [48640/60000 (81%)]\tLoss: 0.253146\n",
            "Train Epoch: 4 [49280/60000 (82%)]\tLoss: 0.149319\n",
            "Train Epoch: 4 [49920/60000 (83%)]\tLoss: 0.255054\n",
            "Train Epoch: 4 [50560/60000 (84%)]\tLoss: 0.212736\n",
            "Train Epoch: 4 [51200/60000 (85%)]\tLoss: 0.129381\n",
            "Train Epoch: 4 [51840/60000 (86%)]\tLoss: 0.200276\n",
            "Train Epoch: 4 [52480/60000 (87%)]\tLoss: 0.090003\n",
            "Train Epoch: 4 [53120/60000 (88%)]\tLoss: 0.281414\n",
            "Train Epoch: 4 [53760/60000 (90%)]\tLoss: 0.162950\n",
            "Train Epoch: 4 [54400/60000 (91%)]\tLoss: 0.235965\n",
            "Train Epoch: 4 [55040/60000 (92%)]\tLoss: 0.282135\n",
            "Train Epoch: 4 [55680/60000 (93%)]\tLoss: 0.253951\n",
            "Train Epoch: 4 [56320/60000 (94%)]\tLoss: 0.340041\n",
            "Train Epoch: 4 [56960/60000 (95%)]\tLoss: 0.192839\n",
            "Train Epoch: 4 [57600/60000 (96%)]\tLoss: 0.325031\n",
            "Train Epoch: 4 [58240/60000 (97%)]\tLoss: 0.226068\n",
            "Train Epoch: 4 [58880/60000 (98%)]\tLoss: 0.285489\n",
            "Train Epoch: 4 [59520/60000 (99%)]\tLoss: 0.137120\n",
            "\n",
            "Test set: Avg. loss: 0.0784, Accuracy: 9756/10000 (98%)\n",
            "\n",
            "Train Epoch: 5 [0/60000 (0%)]\tLoss: 0.199496\n",
            "Train Epoch: 5 [640/60000 (1%)]\tLoss: 0.418367\n",
            "Train Epoch: 5 [1280/60000 (2%)]\tLoss: 0.350663\n",
            "Train Epoch: 5 [1920/60000 (3%)]\tLoss: 0.062620\n",
            "Train Epoch: 5 [2560/60000 (4%)]\tLoss: 0.212645\n",
            "Train Epoch: 5 [3200/60000 (5%)]\tLoss: 0.215834\n",
            "Train Epoch: 5 [3840/60000 (6%)]\tLoss: 0.188288\n",
            "Train Epoch: 5 [4480/60000 (7%)]\tLoss: 0.420186\n",
            "Train Epoch: 5 [5120/60000 (9%)]\tLoss: 0.337907\n",
            "Train Epoch: 5 [5760/60000 (10%)]\tLoss: 0.127136\n",
            "Train Epoch: 5 [6400/60000 (11%)]\tLoss: 0.373472\n",
            "Train Epoch: 5 [7040/60000 (12%)]\tLoss: 0.275511\n",
            "Train Epoch: 5 [7680/60000 (13%)]\tLoss: 0.178554\n",
            "Train Epoch: 5 [8320/60000 (14%)]\tLoss: 0.347203\n",
            "Train Epoch: 5 [8960/60000 (15%)]\tLoss: 0.240155\n",
            "Train Epoch: 5 [9600/60000 (16%)]\tLoss: 0.309916\n",
            "Train Epoch: 5 [10240/60000 (17%)]\tLoss: 0.235672\n",
            "Train Epoch: 5 [10880/60000 (18%)]\tLoss: 0.198101\n",
            "Train Epoch: 5 [11520/60000 (19%)]\tLoss: 0.288040\n",
            "Train Epoch: 5 [12160/60000 (20%)]\tLoss: 0.214201\n",
            "Train Epoch: 5 [12800/60000 (21%)]\tLoss: 0.154108\n",
            "Train Epoch: 5 [13440/60000 (22%)]\tLoss: 0.153808\n",
            "Train Epoch: 5 [14080/60000 (23%)]\tLoss: 0.117679\n",
            "Train Epoch: 5 [14720/60000 (25%)]\tLoss: 0.102328\n",
            "Train Epoch: 5 [15360/60000 (26%)]\tLoss: 0.162196\n",
            "Train Epoch: 5 [16000/60000 (27%)]\tLoss: 0.199642\n",
            "Train Epoch: 5 [16640/60000 (28%)]\tLoss: 0.136605\n",
            "Train Epoch: 5 [17280/60000 (29%)]\tLoss: 0.118568\n",
            "Train Epoch: 5 [17920/60000 (30%)]\tLoss: 0.418791\n",
            "Train Epoch: 5 [18560/60000 (31%)]\tLoss: 0.263395\n",
            "Train Epoch: 5 [19200/60000 (32%)]\tLoss: 0.251661\n",
            "Train Epoch: 5 [19840/60000 (33%)]\tLoss: 0.213002\n",
            "Train Epoch: 5 [20480/60000 (34%)]\tLoss: 0.396016\n",
            "Train Epoch: 5 [21120/60000 (35%)]\tLoss: 0.087867\n",
            "Train Epoch: 5 [21760/60000 (36%)]\tLoss: 0.129654\n",
            "Train Epoch: 5 [22400/60000 (37%)]\tLoss: 0.213350\n",
            "Train Epoch: 5 [23040/60000 (38%)]\tLoss: 0.111779\n",
            "Train Epoch: 5 [23680/60000 (39%)]\tLoss: 0.123713\n",
            "Train Epoch: 5 [24320/60000 (41%)]\tLoss: 0.375194\n",
            "Train Epoch: 5 [24960/60000 (42%)]\tLoss: 0.117705\n",
            "Train Epoch: 5 [25600/60000 (43%)]\tLoss: 0.087449\n",
            "Train Epoch: 5 [26240/60000 (44%)]\tLoss: 0.338381\n",
            "Train Epoch: 5 [26880/60000 (45%)]\tLoss: 0.603338\n",
            "Train Epoch: 5 [27520/60000 (46%)]\tLoss: 0.128847\n",
            "Train Epoch: 5 [28160/60000 (47%)]\tLoss: 0.214303\n",
            "Train Epoch: 5 [28800/60000 (48%)]\tLoss: 0.269721\n",
            "Train Epoch: 5 [29440/60000 (49%)]\tLoss: 0.179761\n",
            "Train Epoch: 5 [30080/60000 (50%)]\tLoss: 0.102345\n",
            "Train Epoch: 5 [30720/60000 (51%)]\tLoss: 0.102840\n",
            "Train Epoch: 5 [31360/60000 (52%)]\tLoss: 0.408059\n",
            "Train Epoch: 5 [32000/60000 (53%)]\tLoss: 0.198664\n",
            "Train Epoch: 5 [32640/60000 (54%)]\tLoss: 0.256879\n",
            "Train Epoch: 5 [33280/60000 (55%)]\tLoss: 0.193743\n",
            "Train Epoch: 5 [33920/60000 (57%)]\tLoss: 0.306903\n",
            "Train Epoch: 5 [34560/60000 (58%)]\tLoss: 0.285391\n",
            "Train Epoch: 5 [35200/60000 (59%)]\tLoss: 0.141845\n",
            "Train Epoch: 5 [35840/60000 (60%)]\tLoss: 0.203213\n",
            "Train Epoch: 5 [36480/60000 (61%)]\tLoss: 0.230190\n",
            "Train Epoch: 5 [37120/60000 (62%)]\tLoss: 0.281561\n",
            "Train Epoch: 5 [37760/60000 (63%)]\tLoss: 0.344087\n",
            "Train Epoch: 5 [38400/60000 (64%)]\tLoss: 0.167173\n",
            "Train Epoch: 5 [39040/60000 (65%)]\tLoss: 0.143436\n",
            "Train Epoch: 5 [39680/60000 (66%)]\tLoss: 0.075456\n",
            "Train Epoch: 5 [40320/60000 (67%)]\tLoss: 0.106059\n",
            "Train Epoch: 5 [40960/60000 (68%)]\tLoss: 0.308867\n",
            "Train Epoch: 5 [41600/60000 (69%)]\tLoss: 0.208186\n",
            "Train Epoch: 5 [42240/60000 (70%)]\tLoss: 0.208486\n",
            "Train Epoch: 5 [42880/60000 (71%)]\tLoss: 0.263951\n",
            "Train Epoch: 5 [43520/60000 (72%)]\tLoss: 0.297182\n",
            "Train Epoch: 5 [44160/60000 (74%)]\tLoss: 0.179242\n",
            "Train Epoch: 5 [44800/60000 (75%)]\tLoss: 0.249395\n",
            "Train Epoch: 5 [45440/60000 (76%)]\tLoss: 0.294977\n",
            "Train Epoch: 5 [46080/60000 (77%)]\tLoss: 0.290215\n",
            "Train Epoch: 5 [46720/60000 (78%)]\tLoss: 0.203149\n",
            "Train Epoch: 5 [47360/60000 (79%)]\tLoss: 0.174881\n",
            "Train Epoch: 5 [48000/60000 (80%)]\tLoss: 0.659944\n",
            "Train Epoch: 5 [48640/60000 (81%)]\tLoss: 0.398346\n",
            "Train Epoch: 5 [49280/60000 (82%)]\tLoss: 0.144952\n",
            "Train Epoch: 5 [49920/60000 (83%)]\tLoss: 0.389843\n",
            "Train Epoch: 5 [50560/60000 (84%)]\tLoss: 0.160094\n",
            "Train Epoch: 5 [51200/60000 (85%)]\tLoss: 0.155461\n",
            "Train Epoch: 5 [51840/60000 (86%)]\tLoss: 0.217526\n",
            "Train Epoch: 5 [52480/60000 (87%)]\tLoss: 0.156356\n",
            "Train Epoch: 5 [53120/60000 (88%)]\tLoss: 0.224213\n",
            "Train Epoch: 5 [53760/60000 (90%)]\tLoss: 0.173439\n",
            "Train Epoch: 5 [54400/60000 (91%)]\tLoss: 0.127268\n",
            "Train Epoch: 5 [55040/60000 (92%)]\tLoss: 0.159641\n",
            "Train Epoch: 5 [55680/60000 (93%)]\tLoss: 0.061794\n",
            "Train Epoch: 5 [56320/60000 (94%)]\tLoss: 0.370184\n",
            "Train Epoch: 5 [56960/60000 (95%)]\tLoss: 0.199570\n",
            "Train Epoch: 5 [57600/60000 (96%)]\tLoss: 0.285460\n",
            "Train Epoch: 5 [58240/60000 (97%)]\tLoss: 0.132828\n",
            "Train Epoch: 5 [58880/60000 (98%)]\tLoss: 0.240196\n",
            "Train Epoch: 5 [59520/60000 (99%)]\tLoss: 0.136923\n",
            "\n",
            "Test set: Avg. loss: 0.0706, Accuracy: 9785/10000 (98%)\n",
            "\n"
          ]
        }
      ]
    },
    {
      "cell_type": "code",
      "source": [
        "test()"
      ],
      "metadata": {
        "colab": {
          "base_uri": "https://localhost:8080/"
        },
        "id": "3pYCp2Vxt2TP",
        "outputId": "c414aaca-2a16-4928-dac4-7a4697f5fbd9"
      },
      "execution_count": 39,
      "outputs": [
        {
          "output_type": "stream",
          "name": "stderr",
          "text": [
            "<ipython-input-33-6d2a1312227a>:17: UserWarning: Implicit dimension choice for log_softmax has been deprecated. Change the call to include dim=X as an argument.\n",
            "  return F.log_softmax(x)\n"
          ]
        },
        {
          "output_type": "stream",
          "name": "stdout",
          "text": [
            "\n",
            "Test set: Avg. loss: 0.0706, Accuracy: 9785/10000 (98%)\n",
            "\n"
          ]
        }
      ]
    },
    {
      "cell_type": "code",
      "source": [
        "fig = plt.figure()\n",
        "plt.plot(train_counter, train_losses, color='blue')\n",
        "plt.scatter(test_counter, test_losses, color='red')\n",
        "plt.legend(['Train Loss', 'Test Loss'], loc='upper right')\n",
        "plt.xlabel('number of training examples seen')\n",
        "plt.ylabel('negative log likelihood loss')\n",
        "fig"
      ],
      "metadata": {
        "colab": {
          "base_uri": "https://localhost:8080/",
          "height": 541
        },
        "id": "DsLZEKrnu8rU",
        "outputId": "518fbc1b-7365-451b-9cc9-262e94b5ac18"
      },
      "execution_count": 40,
      "outputs": [
        {
          "output_type": "execute_result",
          "data": {
            "text/plain": [
              "<Figure size 432x288 with 1 Axes>"
            ],
            "image/png": "[encoded data removed]"
          },
          "metadata": {},
          "execution_count": 40
        },
        {
          "output_type": "display_data",
          "data": {
            "text/plain": [
              "<Figure size 432x288 with 1 Axes>"
            ],
            "image/png": "[encoded data removed]"
          },
          "metadata": {
            "needs_background": "light"
          }
        }
      ]
    },
    {
      "cell_type": "code",
      "source": [
        "with torch.no_grad():\n",
        "  output = network(example_data.to(device))"
      ],
      "metadata": {
        "colab": {
          "base_uri": "https://localhost:8080/"
        },
        "id": "aOrAmGc3vkNw",
        "outputId": "5f599c2e-7f0c-4989-d43e-9b4bcdfe0ad5"
      },
      "execution_count": 42,
      "outputs": [
        {
          "output_type": "stream",
          "name": "stderr",
          "text": [
            "<ipython-input-33-6d2a1312227a>:17: UserWarning: Implicit dimension choice for log_softmax has been deprecated. Change the call to include dim=X as an argument.\n",
            "  return F.log_softmax(x)\n"
          ]
        }
      ]
    },
    {
      "cell_type": "code",
      "source": [
        "fig = plt.figure()\n",
        "for i in range(6):\n",
        "  plt.subplot(2,3,i+1)\n",
        "  plt.tight_layout()\n",
        "  plt.imshow(example_data[i][0], cmap='gray', interpolation='none')\n",
        "  plt.title(\"Prediction: {}\".format(\n",
        "    output.data.max(1, keepdim=True)[1][i].item()))\n",
        "  plt.xticks([])\n",
        "  plt.yticks([])\n",
        "fig"
      ],
      "metadata": {
        "colab": {
          "base_uri": "https://localhost:8080/",
          "height": 551
        },
        "id": "-u8noDqAvllR",
        "outputId": "8014e5d7-e5e6-4a0e-ed13-40ab5d77d797"
      },
      "execution_count": 43,
      "outputs": [
        {
          "output_type": "execute_result",
          "data": {
            "text/plain": [
              "<Figure size 432x288 with 6 Axes>"
            ],
            "image/png": "[encoded data removed]"
          },
          "metadata": {},
          "execution_count": 43
        },
        {
          "output_type": "display_data",
          "data": {
            "text/plain": [
              "<Figure size 432x288 with 6 Axes>"
            ],
            "image/png": "[encoded data removed]"
          },
          "metadata": {}
        }
      ]
    },
    {
      "cell_type": "code",
      "source": [
        "!mkdir /content/drive/MyDrive/colab_data/mnist_result"
      ],
      "metadata": {
        "id": "kit7bz0M4jKm"
      },
      "execution_count": 44,
      "outputs": []
    },
    {
      "cell_type": "code",
      "source": [
        "!cd /content/results && cp -r . /content/drive/MyDrive/colab_data/mnist_result/"
      ],
      "metadata": {
        "id": "TsmpSj4v33i3"
      },
      "execution_count": 46,
      "outputs": []
    }
  ]
}