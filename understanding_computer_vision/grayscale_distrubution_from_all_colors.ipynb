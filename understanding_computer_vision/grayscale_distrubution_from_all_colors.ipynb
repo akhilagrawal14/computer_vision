{
 "cells": [
  {
   "cell_type": "markdown",
   "metadata": {},
   "source": [
    "Here, My aim is to find all colors rgb [0,0,0] to [255,255,255] to grayscale and make a histogram to see the distribution of RG to Grayscale in 0 to 255 scale.<br>\n",
    "\n"
   ]
  },
  {
   "cell_type": "markdown",
   "metadata": {},
   "source": [
    "# RGB TO GRAYSCALE\n",
    "\n",
    "\n",
    "3 methods: <br>\n",
    "\n",
    "1. average :\n",
    "(R+G+B)/3\n",
    "2. luminosity :\n",
    "0.3 * R + 0.59 * G + 0.11 * B\n",
    "3. lightness :\n",
    " (min(R,G,B)+max(R,G,B))/2\n",
    " \n",
    " \n",
    " CV2 uses in RGB to Gray: 0.299*R+0.587*G+0.114*B  (close to luminosity)"
   ]
  },
  {
   "cell_type": "code",
   "execution_count": 1,
   "metadata": {},
   "outputs": [
    {
     "name": "stderr",
     "output_type": "stream",
     "text": [
      "In C:\\Users\\akhil\\Anaconda3\\envs\\first\\lib\\site-packages\\matplotlib\\mpl-data\\stylelib\\_classic_test.mplstyle: \n",
      "The text.latex.preview rcparam was deprecated in Matplotlib 3.3 and will be removed two minor releases later.\n",
      "In C:\\Users\\akhil\\Anaconda3\\envs\\first\\lib\\site-packages\\matplotlib\\mpl-data\\stylelib\\_classic_test.mplstyle: \n",
      "The mathtext.fallback_to_cm rcparam was deprecated in Matplotlib 3.3 and will be removed two minor releases later.\n",
      "In C:\\Users\\akhil\\Anaconda3\\envs\\first\\lib\\site-packages\\matplotlib\\mpl-data\\stylelib\\_classic_test.mplstyle: Support for setting the 'mathtext.fallback_to_cm' rcParam is deprecated since 3.3 and will be removed two minor releases later; use 'mathtext.fallback : 'cm' instead.\n",
      "In C:\\Users\\akhil\\Anaconda3\\envs\\first\\lib\\site-packages\\matplotlib\\mpl-data\\stylelib\\_classic_test.mplstyle: \n",
      "The validate_bool_maybe_none function was deprecated in Matplotlib 3.3 and will be removed two minor releases later.\n",
      "In C:\\Users\\akhil\\Anaconda3\\envs\\first\\lib\\site-packages\\matplotlib\\mpl-data\\stylelib\\_classic_test.mplstyle: \n",
      "The savefig.jpeg_quality rcparam was deprecated in Matplotlib 3.3 and will be removed two minor releases later.\n",
      "In C:\\Users\\akhil\\Anaconda3\\envs\\first\\lib\\site-packages\\matplotlib\\mpl-data\\stylelib\\_classic_test.mplstyle: \n",
      "The keymap.all_axes rcparam was deprecated in Matplotlib 3.3 and will be removed two minor releases later.\n",
      "In C:\\Users\\akhil\\Anaconda3\\envs\\first\\lib\\site-packages\\matplotlib\\mpl-data\\stylelib\\_classic_test.mplstyle: \n",
      "The animation.avconv_path rcparam was deprecated in Matplotlib 3.3 and will be removed two minor releases later.\n",
      "In C:\\Users\\akhil\\Anaconda3\\envs\\first\\lib\\site-packages\\matplotlib\\mpl-data\\stylelib\\_classic_test.mplstyle: \n",
      "The animation.avconv_args rcparam was deprecated in Matplotlib 3.3 and will be removed two minor releases later.\n"
     ]
    }
   ],
   "source": [
    "import numpy as np\n",
    "import cv2\n",
    "import matplotlib.pyplot as plt"
   ]
  },
  {
   "cell_type": "code",
   "execution_count": 2,
   "metadata": {},
   "outputs": [
    {
     "data": {
      "text/plain": [
       "16777216"
      ]
     },
     "execution_count": 2,
     "metadata": {},
     "output_type": "execute_result"
    }
   ],
   "source": [
    "256*256*256"
   ]
  },
  {
   "cell_type": "markdown",
   "metadata": {},
   "source": [
    "I will make 256(B fixed) images of 256*256*3 (all R,G combinations) , and convert each in grayscale and put in dictionary count."
   ]
  },
  {
   "cell_type": "code",
   "execution_count": 7,
   "metadata": {},
   "outputs": [],
   "source": [
    "R=np.arange(0,256)\n",
    "G=np.arange(0,256)\n",
    "B=np.arange(0,256)"
   ]
  },
  {
   "cell_type": "code",
   "execution_count": 13,
   "metadata": {},
   "outputs": [],
   "source": [
    "img=np.full((256, 256, 3), 255, dtype=np.uint8)\n"
   ]
  },
  {
   "cell_type": "code",
   "execution_count": 55,
   "metadata": {},
   "outputs": [],
   "source": [
    "i=B[167]\n",
    "img[:,:,0]=R\n",
    "img[:,:,1]=G\n",
    "img[:,:,2]=i"
   ]
  },
  {
   "cell_type": "code",
   "execution_count": 56,
   "metadata": {},
   "outputs": [
    {
     "data": {
      "text/plain": [
       "<matplotlib.image.AxesImage at 0x26c5eb3fc50>"
      ]
     },
     "execution_count": 56,
     "metadata": {},
     "output_type": "execute_result"
    },
    {
     "data": {
      "image/png": "[encoded data removed]",
      "text/plain": [
       "<Figure size 432x288 with 1 Axes>"
      ]
     },
     "metadata": {
      "needs_background": "light"
     },
     "output_type": "display_data"
    }
   ],
   "source": [
    "plt.imshow(img)"
   ]
  },
  {
   "cell_type": "code",
   "execution_count": 57,
   "metadata": {},
   "outputs": [
    {
     "data": {
      "text/plain": [
       "<matplotlib.image.AxesImage at 0x26c5eba42e8>"
      ]
     },
     "execution_count": 57,
     "metadata": {},
     "output_type": "execute_result"
    },
    {
     "data": {
      "image/png": "[encoded data removed]",
      "text/plain": [
       "<Figure size 432x288 with 1 Axes>"
      ]
     },
     "metadata": {
      "needs_background": "light"
     },
     "output_type": "display_data"
    }
   ],
   "source": [
    "gray = cv2.cvtColor(img, cv2.COLOR_RGB2GRAY)\n",
    "plt.imshow(gray, cmap='gray')"
   ]
  },
  {
   "cell_type": "code",
   "execution_count": 37,
   "metadata": {},
   "outputs": [
    {
     "data": {
      "text/plain": [
       "(256, 256)"
      ]
     },
     "execution_count": 37,
     "metadata": {},
     "output_type": "execute_result"
    }
   ],
   "source": [
    "gray.shape"
   ]
  },
  {
   "cell_type": "code",
   "execution_count": 40,
   "metadata": {},
   "outputs": [
    {
     "data": {
      "text/plain": [
       "array([[  0,   1,   2, ..., 224, 225, 226],\n",
       "       [  0,   1,   2, ..., 224, 225, 226],\n",
       "       [  0,   1,   2, ..., 224, 225, 226],\n",
       "       ...,\n",
       "       [  0,   1,   2, ..., 224, 225, 226],\n",
       "       [  0,   1,   2, ..., 224, 225, 226],\n",
       "       [  0,   1,   2, ..., 224, 225, 226]], dtype=uint8)"
      ]
     },
     "execution_count": 40,
     "metadata": {},
     "output_type": "execute_result"
    }
   ],
   "source": [
    "gray"
   ]
  },
  {
   "cell_type": "code",
   "execution_count": 46,
   "metadata": {},
   "outputs": [
    {
     "name": "stdout",
     "output_type": "stream",
     "text": [
      "{0: 256, 1: 256, 2: 256, 3: 256, 4: 512, 5: 256, 6: 256, 7: 256, 8: 256, 9: 256, 10: 256, 11: 256, 12: 512, 13: 256, 14: 256, 15: 256, 16: 256, 17: 256, 18: 256, 19: 512, 20: 256, 21: 256, 22: 256, 23: 256, 24: 256, 25: 256, 26: 256, 27: 512, 28: 256, 29: 256, 30: 256, 31: 256, 32: 256, 33: 256, 34: 256, 35: 512, 36: 256, 37: 256, 38: 256, 39: 256, 40: 256, 41: 256, 42: 256, 43: 512, 44: 256, 45: 256, 46: 256, 47: 256, 48: 256, 49: 256, 50: 256, 51: 512, 52: 256, 53: 256, 54: 256, 55: 256, 56: 256, 57: 256, 58: 512, 59: 256, 60: 256, 61: 256, 62: 256, 63: 256, 64: 256, 65: 256, 66: 512, 67: 256, 68: 256, 69: 256, 70: 256, 71: 256, 72: 256, 73: 256, 74: 512, 75: 256, 76: 256, 77: 256, 78: 256, 79: 256, 80: 256, 81: 256, 82: 512, 83: 256, 84: 256, 85: 256, 86: 256, 87: 256, 88: 256, 89: 512, 90: 256, 91: 256, 92: 256, 93: 256, 94: 256, 95: 256, 96: 256, 97: 512, 98: 256, 99: 256, 100: 256, 101: 256, 102: 256, 103: 256, 104: 256, 105: 512, 106: 256, 107: 256, 108: 256, 109: 256, 110: 256, 111: 256, 112: 256, 113: 512, 114: 256, 115: 256, 116: 256, 117: 256, 118: 256, 119: 256, 120: 512, 121: 256, 122: 256, 123: 256, 124: 256, 125: 256, 126: 256, 127: 256, 128: 512, 129: 256, 130: 256, 131: 256, 132: 256, 133: 256, 134: 256, 135: 256, 136: 512, 137: 256, 138: 256, 139: 256, 140: 256, 141: 256, 142: 256, 143: 256, 144: 512, 145: 256, 146: 256, 147: 256, 148: 256, 149: 256, 150: 256, 151: 256, 152: 512, 153: 256, 154: 256, 155: 256, 156: 256, 157: 256, 158: 256, 159: 512, 160: 256, 161: 256, 162: 256, 163: 256, 164: 256, 165: 256, 166: 256, 167: 512, 168: 256, 169: 256, 170: 256, 171: 256, 172: 256, 173: 256, 174: 256, 175: 512, 176: 256, 177: 256, 178: 256, 179: 256, 180: 256, 181: 256, 182: 256, 183: 512, 184: 256, 185: 256, 186: 256, 187: 256, 188: 256, 189: 256, 190: 512, 191: 256, 192: 256, 193: 256, 194: 256, 195: 256, 196: 256, 197: 256, 198: 512, 199: 256, 200: 256, 201: 256, 202: 256, 203: 256, 204: 256, 205: 256, 206: 512, 207: 256, 208: 256, 209: 256, 210: 256, 211: 256, 212: 256, 213: 256, 214: 512, 215: 256, 216: 256, 217: 256, 218: 256, 219: 256, 220: 256, 221: 512, 222: 256, 223: 256, 224: 256, 225: 256, 226: 256}\n"
     ]
    }
   ],
   "source": [
    "count={}\n",
    "for row in gray:\n",
    "    for element in row:\n",
    "        if element in count:\n",
    "            count[element]+=1\n",
    "        else:\n",
    "            count[element]=1\n",
    "print(count)"
   ]
  },
  {
   "cell_type": "code",
   "execution_count": 47,
   "metadata": {},
   "outputs": [
    {
     "name": "stdout",
     "output_type": "stream",
     "text": [
      "{0: 1280, 1: 3840, 2: 6144, 3: 8704, 4: 11520, 5: 14080, 6: 16640, 7: 18944, 8: 21504, 9: 24064, 10: 26624, 11: 28928, 12: 31744, 13: 34304, 14: 36864, 15: 39168, 16: 41728, 17: 44288, 18: 46848, 19: 49664, 20: 51968, 21: 54528, 22: 57088, 23: 59648, 24: 61952, 25: 64512, 26: 67072, 27: 69888, 28: 72192, 29: 73984, 30: 73984, 31: 73984, 32: 73984, 33: 73984, 34: 73984, 35: 73984, 36: 73984, 37: 73984, 38: 73984, 39: 73984, 40: 73984, 41: 73984, 42: 73728, 43: 73984, 44: 73984, 45: 73984, 46: 73984, 47: 73984, 48: 73984, 49: 73984, 50: 73728, 51: 73984, 52: 73984, 53: 73984, 54: 73984, 55: 73984, 56: 73984, 57: 73984, 58: 73984, 59: 73984, 60: 73984, 61: 73984, 62: 73984, 63: 73984, 64: 73984, 65: 73984, 66: 73984, 67: 73984, 68: 73984, 69: 73984, 70: 73984, 71: 73984, 72: 73984, 73: 73728, 74: 73984, 75: 73984, 76: 73984, 77: 73984, 78: 73984, 79: 73984, 80: 73984, 81: 73728, 82: 73984, 83: 73984, 84: 73984, 85: 73984, 86: 73984, 87: 73984, 88: 73984, 89: 73984, 90: 73984, 91: 73984, 92: 73984, 93: 73984, 94: 73984, 95: 73984, 96: 73984, 97: 73984, 98: 73984, 99: 73984, 100: 73984, 101: 73984, 102: 73984, 103: 73984, 104: 73728, 105: 73984, 106: 73984, 107: 73984, 108: 73984, 109: 73984, 110: 73984, 111: 73984, 112: 73728, 113: 73984, 114: 73984, 115: 73984, 116: 73984, 117: 73984, 118: 73984, 119: 73984, 120: 73984, 121: 73984, 122: 73984, 123: 73984, 124: 73984, 125: 73984, 126: 73984, 127: 73984, 128: 73984, 129: 73984, 130: 73984, 131: 73984, 132: 73984, 133: 73984, 134: 73984, 135: 73984, 136: 73984, 137: 73984, 138: 73984, 139: 73984, 140: 73984, 141: 73984, 142: 73984, 143: 73728, 144: 73984, 145: 73984, 146: 73984, 147: 73984, 148: 73984, 149: 73984, 150: 73984, 151: 73728, 152: 73984, 153: 73984, 154: 73984, 155: 73984, 156: 73984, 157: 73984, 158: 73984, 159: 73984, 160: 73984, 161: 73984, 162: 73984, 163: 73984, 164: 73984, 165: 73984, 166: 73984, 167: 73984, 168: 73984, 169: 73984, 170: 73984, 171: 73984, 172: 73984, 173: 73984, 174: 73728, 175: 73984, 176: 73984, 177: 73984, 178: 73984, 179: 73984, 180: 73984, 181: 73984, 182: 73728, 183: 73984, 184: 73984, 185: 73984, 186: 73984, 187: 73984, 188: 73984, 189: 73984, 190: 73984, 191: 73984, 192: 73984, 193: 73984, 194: 73984, 195: 73984, 196: 73984, 197: 73984, 198: 73984, 199: 73984, 200: 73984, 201: 73984, 202: 73984, 203: 73984, 204: 73984, 205: 73728, 206: 73984, 207: 73984, 208: 73984, 209: 73984, 210: 73984, 211: 73984, 212: 73984, 213: 73728, 214: 73984, 215: 73984, 216: 73984, 217: 73984, 218: 73984, 219: 73984, 220: 73984, 221: 73984, 222: 73984, 223: 73984, 224: 73984, 225: 73984, 226: 73984, 227: 72192, 228: 69888, 229: 67072, 230: 64512, 231: 61952, 232: 59648, 233: 57088, 234: 54528, 235: 51968, 236: 49664, 237: 46848, 238: 44288, 239: 41728, 240: 39168, 241: 36864, 242: 34304, 243: 31744, 244: 28928, 245: 26624, 246: 24064, 247: 21504, 248: 18944, 249: 16640, 250: 14080, 251: 11520, 252: 8704, 253: 6144, 254: 3840, 255: 1280}\n"
     ]
    }
   ],
   "source": [
    "# for whole thing\n",
    "count={}\n",
    "for i in B:\n",
    "    img[:,:,0]=R\n",
    "    img[:,:,1]=G\n",
    "    img[:,:,2]=i\n",
    "    gray = cv2.cvtColor(img, cv2.COLOR_RGB2GRAY)\n",
    "    for row in gray:\n",
    "        for element in row:\n",
    "            if element in count:\n",
    "                count[element]+=1\n",
    "            else:\n",
    "                count[element]=1\n",
    "print(count)"
   ]
  },
  {
   "cell_type": "code",
   "execution_count": 54,
   "metadata": {},
   "outputs": [
    {
     "data": {
      "image/png": "[encoded data removed]",
      "text/plain": [
       "<Figure size 432x288 with 1 Axes>"
      ]
     },
     "metadata": {
      "needs_background": "light"
     },
     "output_type": "display_data"
    }
   ],
   "source": [
    "plt.bar(list(count.keys()), count.values(),width=1, color='g')\n",
    "plt.show() #29 to 226 have same count 73984 . So, 73984 diffrent colors can have same grayscale value in lumosity "
   ]
  }
 ],
 "metadata": {
  "kernelspec": {
   "display_name": "Python [conda env:first] *",
   "language": "python",
   "name": "conda-env-first-py"
  },
  "language_info": {
   "codemirror_mode": {
    "name": "ipython",
    "version": 3
   },
   "file_extension": ".py",
   "mimetype": "text/x-python",
   "name": "python",
   "nbconvert_exporter": "python",
   "pygments_lexer": "ipython3",
   "version": "3.6.9"
  }
 },
 "nbformat": 4,
 "nbformat_minor": 2
}
